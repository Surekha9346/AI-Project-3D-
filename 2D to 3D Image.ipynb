{
  "nbformat": 4,
  "nbformat_minor": 0,
  "metadata": {
    "colab": {
      "provenance": [],
      "gpuType": "T4"
    },
    "kernelspec": {
      "name": "python3",
      "display_name": "Python 3"
    },
    "language_info": {
      "name": "python"
    },
    "accelerator": "GPU"
  },
  "cells": [
    {
      "cell_type": "code",
      "source": [
        "pip install diffusers --upgrade"
      ],
      "metadata": {
        "id": "qc9ozSfeICCn"
      },
      "execution_count": null,
      "outputs": []
    },
    {
      "cell_type": "code",
      "source": [
        "pip install invisible_watermark transformers accelerate safetensors"
      ],
      "metadata": {
        "id": "YBgR0MluICFh"
      },
      "execution_count": null,
      "outputs": []
    },
    {
      "cell_type": "code",
      "source": [
        "pip install torchvision"
      ],
      "metadata": {
        "id": "8uCUHbg8ICIa"
      },
      "execution_count": null,
      "outputs": []
    },
    {
      "cell_type": "code",
      "source": [
        "pip install rembg"
      ],
      "metadata": {
        "id": "8kZ-t_cNICLG"
      },
      "execution_count": null,
      "outputs": []
    },
    {
      "cell_type": "code",
      "source": [
        "pip install onnxruntime"
      ],
      "metadata": {
        "id": "5bydwA_yICNc"
      },
      "execution_count": null,
      "outputs": []
    },
    {
      "cell_type": "code",
      "source": [
        "!pip install open3d"
      ],
      "metadata": {
        "id": "oRs_ZqCcICQQ"
      },
      "execution_count": null,
      "outputs": []
    },
    {
      "cell_type": "code",
      "execution_count": null,
      "metadata": {
        "id": "ZBcHv5D9HDa-"
      },
      "outputs": [],
      "source": [
        "import torch"
      ]
    },
    {
      "cell_type": "code",
      "source": [
        "from diffusers import DiffusionPipeline"
      ],
      "metadata": {
        "id": "_b031uwWICS6"
      },
      "execution_count": null,
      "outputs": []
    },
    {
      "cell_type": "code",
      "source": [
        "#Using Stable diffusion from Hugging Face for creating images from the text input\n",
        "pipe = DiffusionPipeline.from_pretrained(\"stabilityai/stable-diffusion-xl-base-1.0\", torch_dtype=torch.float16, use_safetensors=True, variant=\"fp16\")\n",
        "pipe.to(\"cuda\")"
      ],
      "metadata": {
        "id": "r499VSifICVg"
      },
      "execution_count": null,
      "outputs": []
    },
    {
      "cell_type": "code",
      "source": [
        "#choose either Text or Image as Inputprint(\"What do you want to enter Text or Image\")\n",
        "choice=int(input(\"Press 1. Text\\n      2. Image\\n\"))\n",
        "print(choice)"
      ],
      "metadata": {
        "id": "v_TkdhwDICY2"
      },
      "execution_count": null,
      "outputs": []
    },
    {
      "cell_type": "code",
      "source": [
        "from google.colab import files\n",
        "from PIL import Image\n",
        "if choice==1:\n",
        "  prompt=input(\"enter text \")\n",
        "  images = pipe(prompt=prompt,height=1024,width=1024).images[0]\n",
        "else:\n",
        "  uploaded = files.upload()\n",
        "  for filename in uploaded.keys():\n",
        "    print(\"Uploaded file name:\", filename)\n",
        "  images = Image.open(filename)\n"
      ],
      "metadata": {
        "id": "-rMQxYh9I4DP"
      },
      "execution_count": null,
      "outputs": []
    },
    {
      "cell_type": "code",
      "source": [
        "images.save(\"fullimage.png\")"
      ],
      "metadata": {
        "id": "tMRHZi95I4GJ"
      },
      "execution_count": null,
      "outputs": []
    },
    {
      "cell_type": "code",
      "source": [
        "import rembg"
      ],
      "metadata": {
        "id": "snVdYvpTI4I5"
      },
      "execution_count": null,
      "outputs": []
    },
    {
      "cell_type": "code",
      "source": [
        "from rembg import remove\n",
        "from PIL import Image"
      ],
      "metadata": {
        "id": "OIZNkCsbI4ME"
      },
      "execution_count": null,
      "outputs": []
    },
    {
      "cell_type": "code",
      "source": [
        "input_image=Image.open('/content/fullimage.png')\n",
        "output=remove(input_image)\n",
        "output.save('output.png')\n"
      ],
      "metadata": {
        "id": "b8kCFSSNI4PS"
      },
      "execution_count": null,
      "outputs": []
    },
    {
      "cell_type": "code",
      "source": [
        "from transformers import pipeline\n",
        "from PIL import Image\n",
        "import requests\n",
        "\n",
        "# load pipe\n",
        "depth_estimator = pipeline(task=\"depth-estimation\", model=\"Intel/zoedepth-nyu-kitti\")\n",
        "\n",
        "# load image\n",
        "image_path = \"/content/output.png\"  # Change to your imageblob:https://colab.research.google.com/cf3444c0-62d6-434e-897a-0212bdc875ec path\n",
        "image = Image.open(image_path).convert(\"RGB\")\n",
        "\n",
        "\n",
        "# inference\n",
        "outputs = depth_estimator(image)\n",
        "#depth = outputs.depth\n"
      ],
      "metadata": {
        "id": "rGO4dv9EI4Ry"
      },
      "execution_count": null,
      "outputs": []
    },
    {
      "cell_type": "code",
      "source": [
        "depth = outputs['depth']\n",
        "\n",
        "# Save or display the depth map\n",
        "depth.save(\"/content/depth_map.png\")\n",
        "depth.show()"
      ],
      "metadata": {
        "id": "_UTPPdB3I4Up"
      },
      "execution_count": null,
      "outputs": []
    },
    {
      "cell_type": "code",
      "source": [
        "import open3d as o3d"
      ],
      "metadata": {
        "id": "Xnafsn2lI4XT"
      },
      "execution_count": null,
      "outputs": []
    },
    {
      "cell_type": "code",
      "source": [
        "import numpy as np\n",
        "import matplotlib.pyplot as plt\n"
      ],
      "metadata": {
        "id": "B0jNiFp-I4Z7"
      },
      "execution_count": null,
      "outputs": []
    },
    {
      "cell_type": "code",
      "source": [
        "from PIL import Image\n",
        "import matplotlib.pyplot as plt\n",
        "\n",
        "# Load depth image (grayscale PNG) and RGB image\n",
        "depth = np.array(Image.open(\"/content/depth_map.png\").convert(\"L\"))  # or 'I' if 16-bit\n",
        "rgb = np.array(Image.open(\"/content/fullimage.png\"))"
      ],
      "metadata": {
        "id": "xVN7OQNyg_bB"
      },
      "execution_count": null,
      "outputs": []
    },
    {
      "cell_type": "code",
      "source": [
        "# Normalize and convert depth to Open3D format\n",
        "depth_o3d = o3d.geometry.Image(depth.astype(np.uint16))  # use uint16 for compatibility\n",
        "color_o3d = o3d.geometry.Image(rgb)"
      ],
      "metadata": {
        "id": "-LaCY5AuhAcW"
      },
      "execution_count": null,
      "outputs": []
    },
    {
      "cell_type": "code",
      "source": [
        "# Create RGBD image\n",
        "rgbd_image = o3d.geometry.RGBDImage.create_from_color_and_depth(\n",
        "    color_o3d, depth_o3d, depth_scale=255.0, convert_rgb_to_intensity=False\n",
        ")"
      ],
      "metadata": {
        "id": "twp2dZsAhD5X"
      },
      "execution_count": null,
      "outputs": []
    },
    {
      "cell_type": "code",
      "source": [
        "# Camera intrinsics (modify if needed)\n",
        "width, height = depth.shape[1], depth.shape[0]\n",
        "fx = fy = 500.0\n",
        "cx = width / 2\n",
        "cy = height / 2\n",
        "intrinsic = o3d.camera.PinholeCameraIntrinsic(width, height, fx, fy, cx, cy)"
      ],
      "metadata": {
        "id": "W8JyDqNbhKIy"
      },
      "execution_count": null,
      "outputs": []
    },
    {
      "cell_type": "code",
      "source": [
        "# Generate point cloud\n",
        "pcd = o3d.geometry.PointCloud.create_from_rgbd_image(rgbd_image, intrinsic)\n",
        "\n",
        "# Convert to numpy for plotting\n",
        "points = np.asarray(pcd.points)"
      ],
      "metadata": {
        "id": "3QY-s-dshNpK"
      },
      "execution_count": null,
      "outputs": []
    },
    {
      "cell_type": "code",
      "source": [
        "# Check if points exist\n",
        "if points.size == 0:\n",
        "    print(\"Point cloud is empty. Check depth map and intrinsics.\")\n",
        "else:\n",
        "    o3d.io.write_point_cloud(\"point_cloud.ply\", pcd)\n",
        "\n",
        "    # Ploting 2D projection\n",
        "    plt.figure(figsize=(10, 6))\n",
        "    plt.scatter(points[:, 0], points[:, 1], c=points[:, 2], cmap='plasma', s=0.5)\n",
        "    plt.xlabel(\"X\")\n",
        "    plt.ylabel(\"Y\")\n",
        "    plt.title(\"2D Point Cloud Projection (X vs Y)\")\n",
        "    plt.colorbar(label=\"Z Depth\")\n",
        "    plt.grid(True)\n",
        "    plt.show()\n"
      ],
      "metadata": {
        "id": "MpO9Ea9ZNSnV"
      },
      "execution_count": null,
      "outputs": []
    },
    {
      "cell_type": "code",
      "source": [
        "color_raw=o3d.io.read_image(\"/content/fullimage.png\")\n",
        "depth_raw=o3d.io.read_image(\"/content/depth_map.png\")\n",
        "rgbd_image=o3d.geometry.RGBDImage.create_from_color_and_depth(color_raw,depth_raw)\n",
        "print(rgbd_image)"
      ],
      "metadata": {
        "id": "ZVMUDl_TNSh7"
      },
      "execution_count": null,
      "outputs": []
    },
    {
      "cell_type": "code",
      "source": [
        "plt.subplot(1,2,1)\n",
        "plt.title(\"Greyscale Image\")\n",
        "plt.imshow(rgbd_image.color)\n",
        "plt.subplot(1,2,2)\n",
        "plt.title(\"Depth Image\")\n",
        "plt.imshow(rgbd_image.depth)\n",
        "plt.show()"
      ],
      "metadata": {
        "id": "IWi2_esaNSkv"
      },
      "execution_count": null,
      "outputs": []
    },
    {
      "cell_type": "code",
      "source": [
        "import open3d as o3d\n",
        "import os\n",
        "import shutil\n",
        "\n",
        "check = 0\n",
        "final_voxel = None\n",
        "\n",
        "#Compressing the .ply file if it exceeds 100MB because most of PLY viewer does not support viewing more than 100MB data\n",
        "def compress_ply_if_large(ply_path, output_dir=\"/content\", voxel_sizes=[0.01, 0.005, 0.002], size_limit_mb=100):\n",
        "    global check, final_voxel\n",
        "\n",
        "    file_size_mb = os.path.getsize(ply_path) / (1024 * 1024)\n",
        "\n",
        "    if file_size_mb <= size_limit_mb:\n",
        "        print(f\"File size is {file_size_mb:.2f} MB, no compression needed.\")\n",
        "        return ply_path\n",
        "\n",
        "    check = 1\n",
        "    print(f\"File size is {file_size_mb:.2f} MB, compressing...\")\n",
        "\n",
        "    pcd = o3d.io.read_point_cloud(ply_path)\n",
        "    original_points = len(pcd.points)\n",
        "\n",
        "    for voxel_size in voxel_sizes:\n",
        "        print(f\"Trying voxel size: {voxel_size}\")\n",
        "        downsampled = pcd.voxel_down_sample(voxel_size)\n",
        "        points_left = len(downsampled.points)\n",
        "        print(f\"Points remaining: {points_left}/{original_points}\")\n",
        "\n",
        "        if points_left > 0.3 * original_points:\n",
        "            final_voxel = voxel_size\n",
        "            output_path = os.path.join(output_dir, f\"point_cloud_compressed_{voxel_size}.ply\")\n",
        "            o3d.io.write_point_cloud(output_path, downsampled)\n",
        "            print(f\"Saved compressed PLY to: {output_path}\")\n",
        "            return output_path\n",
        "\n",
        "    print(\"All voxel sizes removed too many points. Skipping compression.\")\n",
        "    return ply_path\n",
        "\n",
        "#Returning obj file\n",
        "def change_extension(ply_path):\n",
        "    if os.path.exists(ply_path):\n",
        "        obj_path = os.path.splitext(ply_path)[0] + '.obj'\n",
        "        shutil.copy(ply_path, obj_path)\n",
        "        print(f\"File copied and renamed to: {obj_path}\")\n",
        "    else:\n",
        "        print(f\"Error: {ply_path} does not exist.\")\n",
        "\n",
        "#calling the methods\n",
        "compressed_path = compress_ply_if_large(\"/content/point_cloud.ply\")\n",
        "change_extension(compressed_path)\n"
      ],
      "metadata": {
        "id": "_PCCXQI9mjyQ"
      },
      "execution_count": null,
      "outputs": []
    },
    {
      "cell_type": "code",
      "source": [],
      "metadata": {
        "id": "dkpoxYD9NSsp"
      },
      "execution_count": null,
      "outputs": []
    },
    {
      "cell_type": "code",
      "source": [],
      "metadata": {
        "id": "MMYS5YH_NSvr"
      },
      "execution_count": null,
      "outputs": []
    },
    {
      "cell_type": "code",
      "source": [],
      "metadata": {
        "id": "xw4gvcikNSzO"
      },
      "execution_count": null,
      "outputs": []
    }
  ]
}